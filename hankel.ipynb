{
 "cells": [
  {
   "cell_type": "code",
   "execution_count": 2,
   "metadata": {},
   "outputs": [],
   "source": [
    "%reload_ext autoreload\n",
    "%autoreload 2\n",
    "\n",
    "import sympy as sp\n",
    "sp.init_printing(use_unicode=False, wrap_line=False)\n",
    "\n",
    "from hankel import *"
   ]
  },
  {
   "cell_type": "code",
   "execution_count": 3,
   "metadata": {},
   "outputs": [],
   "source": [
    "matrix = sp.IndexedBase('h')\n",
    "i, j, k, l = sp.symbols('i j k l', cls=sp.Idx)"
   ]
  },
  {
   "cell_type": "code",
   "execution_count": 18,
   "metadata": {},
   "outputs": [
    {
     "data": {
      "image/png": "[encoded data removed]",
      "text/latex": [
       "$$- {h}_{0} {h}_{i + l} {h}_{j + 1} + {h}_{0} {h}_{i} {h}_{j + l + 1} + {h}_{1} {h}_{i + l} {h}_{j} - {h}_{1} {h}_{i - 1} {h}_{j + l + 1} + {h}_{i - 1} {h}_{j + 1} {h}_{l + 1} - {h}_{i} {h}_{j} {h}_{l + 1}$$"
      ],
      "text/plain": [
       "-h[0]*h[i + l]*h[j + 1] + h[0]*h[i]*h[j + l + 1] + h[1]*h[i + l]*h[j] - h[1]*h[i - 1]*h[j + l + 1] + h[i - 1]*h[j + 1]*h[l + 1] - h[i]*h[j]*h[l + 1]"
      ]
     },
     "execution_count": 18,
     "metadata": {},
     "output_type": "execute_result"
    }
   ],
   "source": [
    "hankel_submatrix(matrix, [0, 1, i], [0, l, j]).det() - hankel_submatrix(matrix, [0, l, i - 1], [0, 1, j + 1]).det()"
   ]
  },
  {
   "cell_type": "code",
   "execution_count": 19,
   "metadata": {},
   "outputs": [
    {
     "data": {
      "image/png": "[encoded data removed]",
      "text/latex": [
       "$$- {h}_{0} {h}_{i + l} {h}_{j + 1} + {h}_{0} {h}_{i} {h}_{j + l + 1} + {h}_{1} {h}_{i + l} {h}_{j} - {h}_{1} {h}_{i - 1} {h}_{j + l + 1} + {h}_{i - 1} {h}_{j + 1} {h}_{l + 1} - {h}_{i} {h}_{j} {h}_{l + 1}$$"
      ],
      "text/plain": [
       "-h[0]*h[i + l]*h[j + 1] + h[0]*h[i]*h[j + l + 1] + h[1]*h[i + l]*h[j] - h[1]*h[i - 1]*h[j + l + 1] + h[i - 1]*h[j + 1]*h[l + 1] - h[i]*h[j]*h[l + 1]"
      ]
     },
     "execution_count": 19,
     "metadata": {},
     "output_type": "execute_result"
    }
   ],
   "source": [
    "hankel_submatrix(matrix, [0, l + 1, 1], [0, j, i - 1]).det()"
   ]
  },
  {
   "cell_type": "code",
   "execution_count": null,
   "metadata": {},
   "outputs": [],
   "source": []
  }
 ],
 "metadata": {
  "kernelspec": {
   "display_name": "Python 3",
   "language": "python",
   "name": "python3"
  },
  "language_info": {
   "codemirror_mode": {
    "name": "ipython",
    "version": 3
   },
   "file_extension": ".py",
   "mimetype": "text/x-python",
   "name": "python",
   "nbconvert_exporter": "python",
   "pygments_lexer": "ipython3",
   "version": "3.7.2rc1"
  }
 },
 "nbformat": 4,
 "nbformat_minor": 2
}
